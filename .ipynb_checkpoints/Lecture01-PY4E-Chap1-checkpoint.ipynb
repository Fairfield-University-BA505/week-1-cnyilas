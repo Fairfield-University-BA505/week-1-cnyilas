{
 "cells": [
  {
   "cell_type": "markdown",
   "metadata": {
    "slideshow": {
     "slide_type": "slide"
    }
   },
   "source": [
    "![DSB logo](img/Dolan.jpg)\n",
    "# Preliminaries of Python\n",
    "\n",
    "## PY4E Chapter 1\n",
    "### Why should you learn to write programs?"
   ]
  },
  {
   "cell_type": "markdown",
   "metadata": {
    "slideshow": {
     "slide_type": "slide"
    }
   },
   "source": [
    "# Learning Objectives\n",
    "\n",
    "## Theory / Be able to explain ...\n",
    "- General programming terms like source code, interpreter, compiler, object code, comment, data type, etc.\n",
    "- The different types of errors that require debugging\n",
    "\n",
    "## Skills / Know how to  ...\n",
    "- Run Python statements in JupyterLab\n"
   ]
  },
  {
   "cell_type": "markdown",
   "metadata": {
    "slideshow": {
     "slide_type": "slide"
    }
   },
   "source": [
    "# How does computers work?\n",
    "- We are surrounded in our daily lives with computing devices\n",
    "    - from laptops to cell phones\n",
    "- Computing devices (machines) are getting smarter and smarter\n",
    "    - But they constantly expect the questions of \"What would you like me to do next?\"\n",
    "- Computers are fast enough with vast amounts of memory\n",
    "    - But we need to \"speak their language\""
   ]
  },
  {
   "cell_type": "markdown",
   "metadata": {
    "slideshow": {
     "slide_type": "slide"
    }
   },
   "source": [
    "# Understanding Programming\n",
    "- Knowing how to communicate with computers\n",
    "- a.k.a. become a programmer\n",
    "    - In order to know a language (Python, English), you need to know the _words_ (__vocabulary__) and how to construct _sentences_ (__grammer__)\n",
    "    - Also you need to know to 'tell a story' - the words and sentences need to make sense - to follow some kind of _idea_ (__logic__)\n",
    "- Learning _words_ and _sentence_ are easy; however, learning the _program logic_ is not that easy\n",
    "    - This is the most important takeaway from this course"
   ]
  },
  {
   "cell_type": "markdown",
   "metadata": {
    "slideshow": {
     "slide_type": "slide"
    }
   },
   "source": [
    "# Words and Sentences\n",
    "- Python has a fairly small vocabulary \n",
    "    - What we call `reserved words` \n",
    "    - These are the words having specific meanings to Python\n",
    "    - You should avoid naming your `variables` and `functions` __at all costs!__\n",
    "    - Refer to your textbook (pp. 5) for Python reserved words\n",
    "    \n",
    "- Think about training a dog\n",
    "    - Where you will use keywords like 'sit', 'stay', and 'fetch'\n",
    "    - If you say something like 'I would like to take a walk'\n",
    "    - Your dog would hear 'blah blah blah blah blah blah `walk`'\n",
    "    - In this case, the word `walk` is a reserved word has specific meaning to the dog\n",
    "    - And if you give `walk` a different meaning your dog would be _confused_"
   ]
  },
  {
   "cell_type": "markdown",
   "metadata": {
    "slideshow": {
     "slide_type": "slide"
    }
   },
   "source": [
    "# Your first Python Program\n",
    "\n",
    "Where you will tell Python to say something\n",
    "\n",
    "In this particular case, we will use the famous 'Hello world!' example.\n",
    "\n",
    "__NOTE__: in most programming language, 'Hello world!' is the first sentence your make your code to 'say'."
   ]
  },
  {
   "cell_type": "code",
   "execution_count": 2,
   "metadata": {
    "slideshow": {
     "slide_type": "subslide"
    }
   },
   "outputs": [
    {
     "name": "stdout",
     "output_type": "stream",
     "text": [
      "Hello world!\n"
     ]
    }
   ],
   "source": [
    "print('Hello world!')"
   ]
  },
  {
   "cell_type": "markdown",
   "metadata": {
    "slideshow": {
     "slide_type": "slide"
    }
   },
   "source": [
    "# Observe the Code \n",
    "\n",
    "Notice the color of the words?\n",
    "- <font color='green'> `print` <font/> indicates the reserved word in Python;\n",
    "- <font color='red'> 'Hello world!'<font/> indicates the content you want Python to say;\n",
    "    \n",
    "- Notice that there are specific symbols `()` or `''` \n",
    "    - You will learn the meaning of them later\n",
    "    \n",
    "```python\n",
    "print('Hello world!')\n",
    "``` \n",
    "Above is the first sentence you know to say to Python. __EASY ENOUGH, right?__"
   ]
  },
  {
   "cell_type": "markdown",
   "metadata": {
    "slideshow": {
     "slide_type": "slide"
    }
   },
   "source": [
    "# Conversing with Python\n",
    "\n",
    "- Now you know the the words and sentences to communicate with Python\n",
    "    - Now we need to know what interface you can communicate with Python\n",
    "    - The interface we will be using in this course is Jupyter\n",
    "    - The slides we are using right now is a Jupyter Notebook\n",
    "    - Most of the time in this course, and the subsequent courses (BA 540, BA 545) you will be using Jupyter Notebook"
   ]
  },
  {
   "cell_type": "markdown",
   "metadata": {
    "slideshow": {
     "slide_type": "slide"
    }
   },
   "source": [
    "# Conversing with Python\n",
    "\n",
    "- Remember Python, like other programming language, is expecting answers to:\n",
    "    - “What do you want me to do next?”\n",
    "    - Python is ready to have a conversation with you\n",
    "- Python is popular since its grammar is simple\n",
    "    - You can use a lot of plain English in Python\n",
    "- Let's try!"
   ]
  },
  {
   "cell_type": "code",
   "execution_count": 3,
   "metadata": {
    "slideshow": {
     "slide_type": "subslide"
    }
   },
   "outputs": [
    {
     "ename": "SyntaxError",
     "evalue": "invalid syntax (<ipython-input-3-88cc84e0a278>, line 1)",
     "output_type": "error",
     "traceback": [
      "\u001b[0;36m  File \u001b[0;32m\"<ipython-input-3-88cc84e0a278>\"\u001b[0;36m, line \u001b[0;32m1\u001b[0m\n\u001b[0;31m    I come in peace, please take me to your leader\u001b[0m\n\u001b[0m         ^\u001b[0m\n\u001b[0;31mSyntaxError\u001b[0m\u001b[0;31m:\u001b[0m invalid syntax\n"
     ]
    }
   ],
   "source": [
    "# use the standard line that astronauts use \n",
    "# when they land on a faraway planet and \n",
    "# try to speak with the inhabitants of the planet\n",
    "I come in peace, please take me to your leader"
   ]
  },
  {
   "cell_type": "markdown",
   "metadata": {
    "slideshow": {
     "slide_type": "slide"
    }
   },
   "source": [
    "# Oh no!\n",
    "\n",
    "- Clearly Python does not like what you just said ...\n",
    "\n",
    "- So you get your first error in Python - Congrats!\n",
    "\n",
    "- BTW - __Errors__ are shown to help you build your program, not to stop you from moving forward.\n",
    "\n",
    "- Once you know the basics about Python, most of the errors can be Googled and solved.\n",
    "\n",
    "- But we know how to communicate with Python already, correct?\n",
    "\n",
    "```python\n",
    "print('Hello world!')\n",
    "```\n",
    "\n",
    "- So can we use the same logic here?"
   ]
  },
  {
   "cell_type": "code",
   "execution_count": 4,
   "metadata": {
    "slideshow": {
     "slide_type": "fragment"
    }
   },
   "outputs": [
    {
     "name": "stdout",
     "output_type": "stream",
     "text": [
      "You must be the legendary god that comes from the sky\n"
     ]
    }
   ],
   "source": [
    "print('You must be the legendary god that comes from the sky')"
   ]
  },
  {
   "cell_type": "code",
   "execution_count": 5,
   "metadata": {
    "slideshow": {
     "slide_type": "fragment"
    }
   },
   "outputs": [
    {
     "name": "stdout",
     "output_type": "stream",
     "text": [
      "We have been waiting for you for a long time\n"
     ]
    }
   ],
   "source": [
    "print('We have been waiting for you for a long time')"
   ]
  },
  {
   "cell_type": "code",
   "execution_count": 6,
   "metadata": {
    "slideshow": {
     "slide_type": "fragment"
    }
   },
   "outputs": [
    {
     "name": "stdout",
     "output_type": "stream",
     "text": [
      "Our legend says you will be very tasty with mustard\n"
     ]
    }
   ],
   "source": [
    "print('Our legend says you will be very tasty with mustard')"
   ]
  },
  {
   "cell_type": "code",
   "execution_count": 7,
   "metadata": {
    "slideshow": {
     "slide_type": "fragment"
    }
   },
   "outputs": [
    {
     "ename": "SyntaxError",
     "evalue": "Missing parentheses in call to 'print'. Did you mean print('We will have a feast tonight unless you say')? (<ipython-input-7-af2fadaa25c0>, line 1)",
     "output_type": "error",
     "traceback": [
      "\u001b[0;36m  File \u001b[0;32m\"<ipython-input-7-af2fadaa25c0>\"\u001b[0;36m, line \u001b[0;32m1\u001b[0m\n\u001b[0;31m    print 'We will have a feast tonight unless you say'\u001b[0m\n\u001b[0m                                                      ^\u001b[0m\n\u001b[0;31mSyntaxError\u001b[0m\u001b[0;31m:\u001b[0m Missing parentheses in call to 'print'. Did you mean print('We will have a feast tonight unless you say')?\n"
     ]
    }
   ],
   "source": [
    "print 'We will have a feast tonight unless you say'"
   ]
  },
  {
   "cell_type": "markdown",
   "metadata": {
    "slideshow": {
     "slide_type": "slide"
    }
   },
   "source": [
    "# Oh no! Again?\n",
    "\n",
    "- Our conversation with Python went well until the very last\n",
    "    - But upon observation, we know Python said whatever we ask it to say...\n",
    "    - We thought computers are smart; this does not look very smart, correct?\n",
    "    - Note we just use the command `print` - this is the reserved word that output whatever content we want to the screen\n",
    "    - There are many more we can ask Python to do\n",
    "- Also, Python is picky on grammar, like most other languages"
   ]
  },
  {
   "cell_type": "markdown",
   "metadata": {
    "slideshow": {
     "slide_type": "slide"
    }
   },
   "source": [
    "# Terminology: Interpreter and compiler\n",
    "\n",
    "- Python is a high-level language\n",
    "    - relatively straightforward for hu- mans to read and write and for computers to read and process\n",
    "    - Other high-level languages include Java, C++, PHP, Ruby, Basic, Perl, JavaScript ...\n",
    "    - But inside the computers (e.g. CPUs and memory) another language is used\n",
    "    - Machine language (e.g. assembly) only uses `0`s and `1`s\n",
    "    - So we need a translator to translate the language we used\n",
    "```python\n",
    "print('Hello world!')\n",
    "```\n",
    "    - To the lanaguege machine understands:\n",
    "```\n",
    "001010001110100100101010000001111\n",
    "11100110000011101010010101101101\n",
    "...\n",
    "```"
   ]
  },
  {
   "cell_type": "markdown",
   "metadata": {
    "slideshow": {
     "slide_type": "slide"
    }
   },
   "source": [
    "# Python Interpreter Example\n",
    "\n",
    "- Most Python programs are executed via interpreter\n",
    "- JupyterLab supports the interpreter in three ways:\n",
    "    - Via Terminal session\n",
    "    - Via IPython console\n",
    "    - Via Notebook code cells\n",
    "- An _interpreter__:\n",
    "    - reads the source code of the program, \n",
    "    - parses the source code, \n",
    "    - interprets the instructions on the fly."
   ]
  },
  {
   "cell_type": "markdown",
   "metadata": {
    "slideshow": {
     "slide_type": "slide"
    }
   },
   "source": [
    "# Terminology: Statements and Variable\n",
    "\n",
    "- Statements is a line of Python code ('sentence')\n",
    "    - Good thing about Python is that Python process a line immediately\n",
    "    - and move on to the next line right away\n",
    "    - like most other programming language, Python process code __left to right__ and __top down__\n",
    "    - Unless you tell it __not__ to\n",
    "    \n",
    "- Sometime we want Python to remember some values for later\n",
    "    - we want to use later\n",
    "    - so we will give a symbolic name to the value ('variable')"
   ]
  },
  {
   "cell_type": "code",
   "execution_count": 10,
   "metadata": {
    "slideshow": {
     "slide_type": "subslide"
    }
   },
   "outputs": [
    {
     "name": "stdout",
     "output_type": "stream",
     "text": [
      "6\n"
     ]
    }
   ],
   "source": [
    "# Give value 6 the name `x`\n",
    "x = 6\n",
    "print(x)"
   ]
  },
  {
   "cell_type": "code",
   "execution_count": 11,
   "metadata": {
    "slideshow": {
     "slide_type": "subslide"
    }
   },
   "outputs": [
    {
     "name": "stdout",
     "output_type": "stream",
     "text": [
      "42\n"
     ]
    }
   ],
   "source": [
    "# We can reuse the value (6) of `x` again\n",
    "y = x * 7\n",
    "print(y)"
   ]
  },
  {
   "cell_type": "markdown",
   "metadata": {
    "slideshow": {
     "slide_type": "slide"
    }
   },
   "source": [
    "# Your Turn Here\n",
    "\n",
    "By observing (and try) the code below, answer what is the value of `z`?\n",
    "\n",
    "```python\n",
    "x = 3\n",
    "y = 4\n",
    "x = y\n",
    "z = x * 4\n",
    "```"
   ]
  },
  {
   "cell_type": "markdown",
   "metadata": {
    "slideshow": {
     "slide_type": "slide"
    }
   },
   "source": [
    "# Writing a program\n",
    "- We use Jupyter as our interface to communicate with Python\n",
    "- However, there are other ways we can communicate\n",
    "    - for instance, we can write Python program as scripts\n",
    "    - These scripts will be stored as `.py` file\n",
    "- You use `.py` scripts for following reasons:\n",
    "    - When __speed__ is your main concern here: `.py` files are much faster\n",
    "    - When __reusability__ is the main concern: you can call `.py` files in a Jupyter notebook, or even another `.py` file"
   ]
  },
  {
   "cell_type": "markdown",
   "metadata": {
    "slideshow": {
     "slide_type": "slide"
    }
   },
   "source": [
    "# Your Turn Here\n",
    "- Open a terminal window (pay attention to your instructor)\n",
    "- After the `$` sign, type in following command\n",
    "```bash\n",
    "cat hello.py\n",
    "```\n",
    "- Then type in following code:\n",
    "```python\n",
    "print('Hello world!')\n",
    "```\n",
    "- Then at the next `$` sign, type in following command:\n",
    "```bash\n",
    "python hello.py\n",
    "```"
   ]
  },
  {
   "cell_type": "markdown",
   "metadata": {
    "slideshow": {
     "slide_type": "subslide"
    }
   },
   "source": [
    "# What Happened Above?\n",
    "- `cat` is not a pet - it is the command to write to the `hello.py` script\n",
    "- Then we write an one-line code to the script\n",
    "- `python` is the command we call the `hello.py` script to __run__ it"
   ]
  },
  {
   "cell_type": "markdown",
   "metadata": {
    "slideshow": {
     "slide_type": "slide"
    }
   },
   "source": [
    "# What is a program?\n",
    "- A program is a sequence of statements to do something (e.g. `hello.py`)\n",
    "- Each Jupyter notebook should be considered as a program\n",
    "- Look at the following text:\n",
    "```\n",
    "the clown ran after the car and the car ran into the tent\n",
    "and the tent fell down on the clown and the car\n",
    "```\n",
    "- Our task is to figure out what is the most common word in this text.\n",
    "- We can use following code to do this task."
   ]
  },
  {
   "cell_type": "code",
   "execution_count": 12,
   "metadata": {
    "slideshow": {
     "slide_type": "fragment"
    }
   },
   "outputs": [],
   "source": [
    "# first we need a `variable` to store the text\n",
    "my_text = 'the clown ran after the car and the car ran into the tent \\\n",
    "and the tent fell down on the clown and the car'\n",
    "# '' indicates text in Python\n",
    "# we use `\\` to force Python to break a line\n",
    "# Now we have a piece of text - but we need them as a bunch of words\n",
    "# so the first step is to break them into words"
   ]
  },
  {
   "cell_type": "code",
   "execution_count": 13,
   "metadata": {
    "slideshow": {
     "slide_type": "fragment"
    }
   },
   "outputs": [],
   "source": [
    "# we will use a new data type 'list' - which is a collection of items\n",
    "# We will call this list `my_words`\n",
    "my_words = my_text.split()\n",
    "# Now we have a second Python function `split()`\n",
    "# Which split text into words"
   ]
  },
  {
   "cell_type": "code",
   "execution_count": 14,
   "metadata": {
    "slideshow": {
     "slide_type": "fragment"
    }
   },
   "outputs": [],
   "source": [
    "# We need additional variables for common word and its count\n",
    "# NOTE: you always need to declare these variables as placeholders\n",
    "# before you do any kind of counting\n",
    "common_word = ''\n",
    "common_count = None"
   ]
  },
  {
   "cell_type": "code",
   "execution_count": 16,
   "metadata": {
    "slideshow": {
     "slide_type": "fragment"
    }
   },
   "outputs": [],
   "source": [
    "# Now we need to go through the list `my_words` \n",
    "# and count the occurrence of each word\n",
    "# We use an advanced technique called loop (`for`)\n",
    "counts = dict()\n",
    "for word in my_words:\n",
    "    counts[word] = counts.get(word,0) + 1"
   ]
  },
  {
   "cell_type": "code",
   "execution_count": 18,
   "metadata": {
    "slideshow": {
     "slide_type": "fragment"
    }
   },
   "outputs": [
    {
     "name": "stdout",
     "output_type": "stream",
     "text": [
      "the 7\n"
     ]
    }
   ],
   "source": [
    "# Now it is simple - we need to go through the dict `counts`\n",
    "# And find out the highest count in counts - put that in `common_count`\n",
    "# Anbd find the associated word - put that in `common_word`\n",
    "for word, count in list(counts.items()):\n",
    "    if common_count is None or count > common_count: \n",
    "        common_word = word\n",
    "        common_count = count\n",
    "print(common_word, common_count)\n",
    "# To our surprise, the most common word is 'the'"
   ]
  },
  {
   "cell_type": "markdown",
   "metadata": {},
   "source": [
    "# Building Blocks of Programs\n",
    "\n",
    "These are the low-level conceptual patterns used to construct programs:\n",
    "- __Input__: get data from the \"outside world\". In above example, the input is the text (`my_text`);\n",
    "- __Output__: Display the results of the program. In above example, the output is the most common word (`the`) and its count (`7`);\n",
    "- __Sequential Execution__: Perform statements one after another in the _top-down_ order. For instance, when we declare `common_word` and `common_count`;\n",
    "- __Conditional Execution__: Check for certain condition then execute or skip a sequence of statements. In above example, the `if` statements;\n",
    "- __Repeated Execution__: Perform a sequence of statements repeatedly, usually with some variation. In above example, the `for` loops we used twice;\n",
    "- __Reuse__: Write a set of instructions once and give them a name and then reuse those instructions as needed throughout your program.\n",
    "\n",
    "Doesn't matter how complicated the program is - they are all built through these building blocks.\n",
    "- Knowing them will not guarantee you as a programmer; but knowing them is a good start.\n",
    "- Remember we said that the key takeaway of this course is 'programming logic' - programming logic refers to these blocks."
   ]
  },
  {
   "cell_type": "markdown",
   "metadata": {
    "slideshow": {
     "slide_type": "slide"
    }
   },
   "source": [
    "# What could possibly go wrong?\n",
    "\n",
    "- We need to communicate carefully with Python\n",
    "    - The slightest mistake will cause Python to stop executing your program\n",
    "- Python is __precise__ \n",
    "    - some errors can be easily detected"
   ]
  },
  {
   "cell_type": "code",
   "execution_count": 19,
   "metadata": {
    "slideshow": {
     "slide_type": "fragment"
    }
   },
   "outputs": [
    {
     "ename": "SyntaxError",
     "evalue": "invalid syntax (<ipython-input-19-aaea93d45e14>, line 1)",
     "output_type": "error",
     "traceback": [
      "\u001b[0;36m  File \u001b[0;32m\"<ipython-input-19-aaea93d45e14>\"\u001b[0;36m, line \u001b[0;32m1\u001b[0m\n\u001b[0;31m    primt 'Hello world!'\u001b[0m\n\u001b[0m                       ^\u001b[0m\n\u001b[0;31mSyntaxError\u001b[0m\u001b[0;31m:\u001b[0m invalid syntax\n"
     ]
    }
   ],
   "source": [
    "primt 'Hello world!'"
   ]
  },
  {
   "cell_type": "code",
   "execution_count": 20,
   "metadata": {
    "slideshow": {
     "slide_type": "fragment"
    }
   },
   "outputs": [
    {
     "ename": "NameError",
     "evalue": "name 'primt' is not defined",
     "output_type": "error",
     "traceback": [
      "\u001b[0;31m---------------------------------------------------------------------------\u001b[0m",
      "\u001b[0;31mNameError\u001b[0m                                 Traceback (most recent call last)",
      "\u001b[0;32m<ipython-input-20-4eed114c3e7d>\u001b[0m in \u001b[0;36m<module>\u001b[0;34m\u001b[0m\n\u001b[0;32m----> 1\u001b[0;31m \u001b[0mprimt\u001b[0m \u001b[0;34m(\u001b[0m\u001b[0;34m'Hello world'\u001b[0m\u001b[0;34m)\u001b[0m\u001b[0;34m\u001b[0m\u001b[0;34m\u001b[0m\u001b[0m\n\u001b[0m",
      "\u001b[0;31mNameError\u001b[0m: name 'primt' is not defined"
     ]
    }
   ],
   "source": [
    "primt ('Hello world')"
   ]
  },
  {
   "cell_type": "code",
   "execution_count": 21,
   "metadata": {
    "slideshow": {
     "slide_type": "fragment"
    }
   },
   "outputs": [
    {
     "ename": "SyntaxError",
     "evalue": "invalid syntax (<ipython-input-21-d5c60a42349c>, line 1)",
     "output_type": "error",
     "traceback": [
      "\u001b[0;36m  File \u001b[0;32m\"<ipython-input-21-d5c60a42349c>\"\u001b[0;36m, line \u001b[0;32m1\u001b[0m\n\u001b[0;31m    I hate you Python!\u001b[0m\n\u001b[0m         ^\u001b[0m\n\u001b[0;31mSyntaxError\u001b[0m\u001b[0;31m:\u001b[0m invalid syntax\n"
     ]
    }
   ],
   "source": [
    "I hate you Python!"
   ]
  },
  {
   "cell_type": "code",
   "execution_count": 22,
   "metadata": {
    "slideshow": {
     "slide_type": "fragment"
    }
   },
   "outputs": [
    {
     "ename": "SyntaxError",
     "evalue": "invalid syntax (<ipython-input-22-beed98b9a383>, line 1)",
     "output_type": "error",
     "traceback": [
      "\u001b[0;36m  File \u001b[0;32m\"<ipython-input-22-beed98b9a383>\"\u001b[0;36m, line \u001b[0;32m1\u001b[0m\n\u001b[0;31m    if you come out of there, I would teach you a lesson!\u001b[0m\n\u001b[0m              ^\u001b[0m\n\u001b[0;31mSyntaxError\u001b[0m\u001b[0;31m:\u001b[0m invalid syntax\n"
     ]
    }
   ],
   "source": [
    "if you come out of there, I would teach you a lesson!"
   ]
  },
  {
   "cell_type": "markdown",
   "metadata": {
    "slideshow": {
     "slide_type": "slide"
    }
   },
   "source": [
    "# What could possibly go wrong?\n",
    "\n",
    "- We need to communicate carefully with Python\n",
    "    - The slightest mistake will cause Python to stop executing your program\n",
    "- Python is __precise__ \n",
    "    - some errors can be easily detected\n",
    "    - arguing with Python will get you nowhere\n",
    "    - remember Python shows these errors to help you build your code better"
   ]
  },
  {
   "cell_type": "markdown",
   "metadata": {
    "slideshow": {
     "slide_type": "slide"
    }
   },
   "source": [
    "# Type of Errors\n",
    "- Syntax Errors: \n",
    "    - easist to detect and fix\n",
    "    - Python is telling you \"You seemed to say something but I just don’t understand what you meant, but please keep talking to me\"\n",
    "    - You violated the grammar rules of Python\n",
    "    - Sometimes the errors are not cause by the current statement but somewhere earlier\n",
    "    - You should start at where Python giving your the Syntax Error and trace back along your program"
   ]
  },
  {
   "cell_type": "markdown",
   "metadata": {
    "slideshow": {
     "slide_type": "slide"
    }
   },
   "source": [
    "# Type of Errors\n",
    "- Logic Errors:\n",
    "    - When you have good syntax, but\n",
    "        - the order of the statements are wrong\n",
    "        - there is a mistake how a statement is related to another\n",
    "    - A good example is:\n",
    "        - Work on your course work\n",
    "        - Get your computer out\n",
    "        - Go in to the classroom\n",
    "        - Turn your computer on"
   ]
  },
  {
   "cell_type": "markdown",
   "metadata": {
    "slideshow": {
     "slide_type": "slide"
    }
   },
   "source": [
    "# Type of Errors\n",
    "- **Runtime errors** happen when the computer tries to run a line of code\n",
    "    - Fix: Read the error message, which explains what caused the interpreter to break. \n",
    "    - Often you'll find that some assumption you've made about a resource being available or code being executed in advance are faulty. "
   ]
  },
  {
   "cell_type": "markdown",
   "metadata": {
    "slideshow": {
     "slide_type": "slide"
    }
   },
   "source": [
    "# Type of Errors\n",
    "- **Semantic errors** (bad logic) run fine but do not produce the expected results\n",
    "    - in other words: The program is perfectly correct but it does not do what you _intended_ for it to do.\n",
    "    - Fix: Study the source code for **incorrect logic**. Since your are the source of the logic, the computer has no way to tell that it is faulty, leaving you on your own to locate the bug.\n",
    "    - You should always write out your logic out, before and during coding your program\n",
    "    - There is a way to write your programming logic, namely __comments__\n",
    "        - Providing proper comments to your code is a __MUST__"
   ]
  },
  {
   "cell_type": "markdown",
   "metadata": {
    "slideshow": {
     "slide_type": "slide"
    }
   },
   "source": [
    "# Code Comments\n",
    "```python \n",
    "# Compute the W2H ratio for one person\n",
    "```\n",
    "- Python statements are meant for the computer to execute\n",
    "- Sometimes we want to include explanatory comments for programmers to read\n",
    "  - Comments can be *especially* helpful with semantic errors\n",
    "- Comments always start with the # character\n",
    "  - Anything on a line after the # is ignored by the interpreter\n",
    "- **Comments are considered part of your code!**\n",
    "  - Leaving them out is considered *extremely* unprofessional (and in most of the companies you've heard of will result in a reprimand or worse). "
   ]
  },
  {
   "cell_type": "markdown",
   "metadata": {
    "slideshow": {
     "slide_type": "slide"
    }
   },
   "source": [
    "# Debugging - handling errors\n",
    "- As programmers, we call errors __bugs__\n",
    "- Debugging is the process of finding the cause of the error in your code\n",
    "- There are four things you need to try:\n",
    "    - Reading: examine your code and comments, read them back to yourself\n",
    "    - Running: experiment making changes to your code - starting from where the error is, or where you suspect it is\n",
    "    - ruminating: take some time to think, what kind of error; what info you get from the error; what did you do last\n",
    "        - Google is your best friend\n",
    "    - retreating: sometime the best strategy is to back off - reverse your changes and start rebuilding\n",
    "        - Keep good versioning of your code so that you can always back off"
   ]
  },
  {
   "cell_type": "markdown",
   "metadata": {
    "slideshow": {
     "slide_type": "slide"
    }
   },
   "source": [
    "# Classwork (start here in class)\n",
    "You can start working on them right now:\n",
    "- Read Chapter 1 in PY4E\n",
    "- If time permits, start in on your homework. \n",
    "- Ask questions when you need help. Use this time to get help from the professor!\n",
    "\n",
    "# Homework (do at home)\n",
    "The following is due before class next week:\n",
    "  - Any remaining classwork from tonight\n",
    "  - Finish Exercise 5, 7 and 9 after Chapter 1\n",
    "  - Data Camp “Python Basics” assignment\n",
    "\n",
    "Note: All work on Data Camp is logged. Don't try to fake it!\n",
    "\n",
    "Please email jtao@fairfield.edu if you have any problems or questions."
   ]
  },
  {
   "cell_type": "markdown",
   "metadata": {
    "slideshow": {
     "slide_type": "slide"
    }
   },
   "source": [
    "![DSB logo](img/Dolan.jpg)\n",
    "# Preliminaries of Python\n",
    "\n",
    "## PY4E Chapter 1\n",
    "### Why should you learn to write programs?"
   ]
  },
  {
   "cell_type": "markdown",
   "metadata": {},
   "source": [
    "# homework\n",
    "# "
   ]
  },
  {
   "cell_type": "code",
   "execution_count": null,
   "metadata": {},
   "outputs": [],
   "source": []
  }
 ],
 "metadata": {
  "celltoolbar": "Slideshow",
  "kernelspec": {
   "display_name": "Python 3",
   "language": "python",
   "name": "python3"
  },
  "language_info": {
   "codemirror_mode": {
    "name": "ipython",
    "version": 3
   },
   "file_extension": ".py",
   "mimetype": "text/x-python",
   "name": "python",
   "nbconvert_exporter": "python",
   "pygments_lexer": "ipython3",
   "version": "3.6.7"
  }
 },
 "nbformat": 4,
 "nbformat_minor": 2
}
